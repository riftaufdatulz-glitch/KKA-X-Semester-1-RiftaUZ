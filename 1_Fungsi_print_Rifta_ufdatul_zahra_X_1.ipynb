{
  "cells": [
    {
      "cell_type": "markdown",
      "metadata": {
        "id": "view-in-github",
        "colab_type": "text"
      },
      "source": [
        "<a href=\"https://colab.research.google.com/github/riftaufdatulz-glitch/KKA-X-Semester-1-RiftaUZ/blob/main/1_Fungsi_print_Rifta_ufdatul_zahra_X_1.ipynb\" target=\"_parent\"><img src=\"https://colab.research.google.com/assets/colab-badge.svg\" alt=\"Open In Colab\"/></a>"
      ]
    },
    {
      "cell_type": "markdown",
      "metadata": {
        "id": "aeetUSdi3TUN"
      },
      "source": [
        "#Nama: Rifta Ufdatul Zahra\n",
        " Kelas: X-1"
      ]
    },
    {
      "cell_type": "code",
      "execution_count": null,
      "metadata": {
        "colab": {
          "base_uri": "https://localhost:8080/"
        },
        "id": "CgrkRnJR8p23",
        "outputId": "a27a9522-e49b-4d39-f97c-73e3996027ab"
      },
      "outputs": [
        {
          "name": "stdout",
          "output_type": "stream",
          "text": [
            "Rifta ufdatul zahra\n"
          ]
        }
      ],
      "source": [
        "nama_panjang = \"Rifta ufdatul zahra\"\n",
        "\n",
        "print(nama_panjang)"
      ]
    },
    {
      "cell_type": "markdown",
      "source": [
        "#Menampilkan Nilai Variabel"
      ],
      "metadata": {
        "id": "tk3ZSCvYoeuE"
      }
    },
    {
      "cell_type": "code",
      "execution_count": null,
      "metadata": {
        "colab": {
          "base_uri": "https://localhost:8080/"
        },
        "id": "DFuVTU5x9gDT",
        "outputId": "3d4f5a64-f66f-46ee-e6f7-a01504edb851"
      },
      "outputs": [
        {
          "name": "stdout",
          "output_type": "stream",
          "text": [
            "yaya\n"
          ]
        }
      ],
      "source": [
        "nama_idola = \"yaya\"\n",
        "\n",
        "print(nama_idola)"
      ]
    },
    {
      "cell_type": "code",
      "execution_count": null,
      "metadata": {
        "colab": {
          "base_uri": "https://localhost:8080/"
        },
        "id": "onFBd2LV-Ve1",
        "outputId": "c17a9e12-285f-4d84-8851-b2ca072fb036"
      },
      "outputs": [
        {
          "name": "stdout",
          "output_type": "stream",
          "text": [
            "15\n"
          ]
        }
      ],
      "source": [
        "usia = \"15\"\n",
        "\n",
        "print(usia)"
      ]
    },
    {
      "cell_type": "code",
      "execution_count": null,
      "metadata": {
        "colab": {
          "base_uri": "https://localhost:8080/"
        },
        "id": "JdiNSj8f6I7a",
        "outputId": "2566bb2b-aa75-49d3-9d2a-697ccacc4e5c"
      },
      "outputs": [
        {
          "name": "stdout",
          "output_type": "stream",
          "text": [
            "sukma dan rokim\n"
          ]
        }
      ],
      "source": [
        "nama_saudara = \"sukma dan rokim\"\n",
        "\n",
        "print(nama_saudara)"
      ]
    },
    {
      "cell_type": "markdown",
      "metadata": {
        "id": "4RRV1MOz3Hlk"
      },
      "source": []
    },
    {
      "cell_type": "code",
      "execution_count": null,
      "metadata": {
        "colab": {
          "base_uri": "https://localhost:8080/"
        },
        "id": "4wyutIOm6tWu",
        "outputId": "d4cbdafb-90de-46ce-f8e6-c615d9a8abff"
      },
      "outputs": [
        {
          "name": "stdout",
          "output_type": "stream",
          "text": [
            "2\n"
          ]
        }
      ],
      "source": [
        "jumlah_saudara = 2\n",
        "\n",
        "print(jumlah_saudara)"
      ]
    },
    {
      "cell_type": "markdown",
      "metadata": {
        "id": "awhJ0EBr4HmU"
      },
      "source": [
        "#Menampilkan Nilai Variabel dan String"
      ]
    },
    {
      "cell_type": "code",
      "execution_count": null,
      "metadata": {
        "colab": {
          "base_uri": "https://localhost:8080/"
        },
        "id": "MRVW1whK4iqq",
        "outputId": "6c3de392-903c-4ff5-c306-7e02c1d421e3"
      },
      "outputs": [
        {
          "name": "stdout",
          "output_type": "stream",
          "text": [
            "Nama idola saya adalah yaya . Usianya adalah 15  tahun\n"
          ]
        }
      ],
      "source": [
        "print(\"Nama idola saya adalah\",nama_idola,\". Usianya adalah\",usia,\" tahun\")"
      ]
    },
    {
      "cell_type": "code",
      "execution_count": null,
      "metadata": {
        "colab": {
          "base_uri": "https://localhost:8080/"
        },
        "id": "xuiZ8kgP5S17",
        "outputId": "2278a989-8c99-4db2-8c9c-f4568bd8870e"
      },
      "outputs": [
        {
          "name": "stdout",
          "output_type": "stream",
          "text": [
            "Nama idola saya adalah yaya. usianya adalah 15 tahun.\n"
          ]
        }
      ],
      "source": [
        "print(\"Nama idola saya adalah \"+nama_idola+\". usianya adalah \"+str(usia)+\" tahun.\")"
      ]
    },
    {
      "cell_type": "code",
      "execution_count": null,
      "metadata": {
        "colab": {
          "base_uri": "https://localhost:8080/"
        },
        "id": "s04M9S9rA4Lg",
        "outputId": "236628d7-44b9-4782-aa7e-025382d9dd86"
      },
      "outputs": [
        {
          "name": "stdout",
          "output_type": "stream",
          "text": [
            "Nama idola saya adalah yaya. Usianya adalah 15 tahyn.\n"
          ]
        }
      ],
      "source": [
        "print(f\"Nama idola saya adalah {nama_idola}. Usianya adalah {usia} tahyn.\")"
      ]
    },
    {
      "cell_type": "markdown",
      "metadata": {
        "id": "_vFN97pAAh3d"
      },
      "source": [
        "#Escape character"
      ]
    },
    {
      "cell_type": "code",
      "execution_count": null,
      "metadata": {
        "colab": {
          "base_uri": "https://localhost:8080/"
        },
        "id": "digQoIPR-VVg",
        "outputId": "67033744-588d-439f-98ca-5b73bae6ac64"
      },
      "outputs": [
        {
          "name": "stdout",
          "output_type": "stream",
          "text": [
            "Nama: Rifta\n",
            "Kelas: x-1\n",
            "No. Absen: 29\n"
          ]
        }
      ],
      "source": [
        "print(\"Nama: Rifta\")\n",
        "print(\"Kelas: x-1\")\n",
        "print(\"No. Absen: 29\")"
      ]
    },
    {
      "cell_type": "code",
      "execution_count": null,
      "metadata": {
        "colab": {
          "base_uri": "https://localhost:8080/"
        },
        "id": "_T0JhY4P_Otg",
        "outputId": "0f7a810b-3463-4533-aa36-2355e7eff0ad"
      },
      "outputs": [
        {
          "name": "stdout",
          "output_type": "stream",
          "text": [
            "Nama: Rifta\n",
            "Kelas:X-1\n",
            "No.Absen: 29\n"
          ]
        }
      ],
      "source": [
        "print(\"Nama: Rifta\\nKelas:X-1\\nNo.Absen: 29\")"
      ]
    },
    {
      "cell_type": "code",
      "execution_count": null,
      "metadata": {
        "colab": {
          "base_uri": "https://localhost:8080/"
        },
        "id": "_mlee6xG_rEj",
        "outputId": "8e19c4fd-9ebf-45b0-c9be-596a2d953b05"
      },
      "outputs": [
        {
          "name": "stdout",
          "output_type": "stream",
          "text": [
            "Nama\t\t: Rifta\n",
            "Kelas\t\t: x-1\n",
            "No. Absen\t: 29\n"
          ]
        }
      ],
      "source": [
        "print(\"\"\"Nama\\t\\t: Rifta\n",
        "Kelas\\t\\t: x-1\n",
        "No. Absen\\t: 29\"\"\")"
      ]
    },
    {
      "cell_type": "code",
      "execution_count": null,
      "metadata": {
        "colab": {
          "base_uri": "https://localhost:8080/"
        },
        "id": "BjG6IVDPh2L1",
        "outputId": "578e04bb-46ab-4257-c731-551d3494644e"
      },
      "outputs": [
        {
          "name": "stdout",
          "output_type": "stream",
          "text": [
            "Halo Nama Saya Rifta\n"
          ]
        }
      ],
      "source": [
        "print(\"Halo Nama Saya Rifta\")"
      ]
    },
    {
      "cell_type": "code",
      "execution_count": null,
      "metadata": {
        "colab": {
          "base_uri": "https://localhost:8080/"
        },
        "id": "UnDC21qiiipC",
        "outputId": "906ac48d-1118-4372-e2f1-f777a482e7b0"
      },
      "outputs": [
        {
          "name": "stdout",
          "output_type": "stream",
          "text": [
            "Bu Shinta berkata,\"Tolong fokus ke TV sejenak.\"\n"
          ]
        }
      ],
      "source": [
        "print(\"Bu Shinta berkata,\\\"Tolong fokus ke TV sejenak.\\\"\")"
      ]
    },
    {
      "cell_type": "code",
      "execution_count": null,
      "metadata": {
        "colab": {
          "background_save": true,
          "base_uri": "https://localhost:8080/"
        },
        "id": "youFHqE3i_Am",
        "outputId": "2c6e04c6-b65d-4785-879d-99fe335c2ce3"
      },
      "outputs": [
        {
          "name": "stdout",
          "output_type": "stream",
          "text": [
            "Bu Shinta berkata,\"Tolong fokus ke TV sejenak.\"\n"
          ]
        }
      ],
      "source": [
        "print('Bu Shinta berkata,Tolong fokus ke TV sejenak.\"')"
      ]
    },
    {
      "cell_type": "code",
      "execution_count": null,
      "metadata": {
        "colab": {
          "base_uri": "https://localhost:8080/"
        },
        "id": "gPL4aQALjiFc",
        "outputId": "1462fe72-964e-44c2-b656-5dfa0a5c2512"
      },
      "outputs": [
        {
          "name": "stdout",
          "output_type": "stream",
          "text": [
            "Silahkan simpan file tugas KKA di folder lokal disk D:\\MAN Demak\\KKA\\Tugas\n"
          ]
        }
      ],
      "source": [
        "print(\"Silahkan simpan file tugas KKA di folder lokal disk D:\\\\MAN Demak\\\\KKA\\\\Tugas\")"
      ]
    },
    {
      "cell_type": "code",
      "execution_count": null,
      "metadata": {
        "colab": {
          "base_uri": "https://localhost:8080/"
        },
        "id": "T8QM3Ye6kLM-",
        "outputId": "508fa3f0-f20b-46de-8109-85904ff660ad"
      },
      "outputs": [
        {
          "output_type": "stream",
          "name": "stdout",
          "text": [
            "Bu Shinta berkata, \"Berikut adalah daftar piket harian kelas X.2 yang disimpan di file D:\\MAN Demak\\Jadwal Piket.\"\n",
            "\n",
            "Senin\tSelasa\tRabu\n",
            "Jielo\tHasbi\tNaufal\n",
            "Azam\tA'inun\tNurul\t\n"
          ]
        }
      ],
      "source": [
        "print('Bu Shinta berkata, \"Berikut adalah daftar piket harian kelas X.2 yang disimpan di file D:\\\\MAN Demak\\\\Jadwal Piket.\"\\n\\nSenin\\tSelasa\\tRabu\\nJielo\\tHasbi\\tNaufal\\nAzam\\tA\\'inun\\tNurul\\t')\n"
      ]
    },
    {
      "cell_type": "markdown",
      "metadata": {
        "id": "rPPTqD7DpGbv"
      },
      "source": [
        "#Parameter Fungsi print"
      ]
    },
    {
      "cell_type": "code",
      "execution_count": null,
      "metadata": {
        "colab": {
          "base_uri": "https://localhost:8080/"
        },
        "id": "6jRCpnlhpECu",
        "outputId": "2f116784-e771-4533-99e4-cc0cdfaafaa7"
      },
      "outputs": [
        {
          "name": "stdout",
          "output_type": "stream",
          "text": [
            "Dias Disa\n"
          ]
        }
      ],
      "source": [
        "nama_siswa_1 = \"Dias\"\n",
        "nama_siswa_2 = \"Disa\"\n",
        "\n",
        "print(nama_siswa_1, end=\" \")\n",
        "print(nama_siswa_2)"
      ]
    },
    {
      "cell_type": "code",
      "execution_count": null,
      "metadata": {
        "colab": {
          "base_uri": "https://localhost:8080/"
        },
        "id": "BH0DmCsTp-pC",
        "outputId": "6b5e9788-49b7-4472-8d03-0feed4310e2b"
      },
      "outputs": [
        {
          "name": "stdout",
          "output_type": "stream",
          "text": [
            "Dias Disa\n"
          ]
        }
      ],
      "source": [
        "print(nama_siswa_1, nama_siswa_2)9"
      ]
    },
    {
      "cell_type": "code",
      "execution_count": null,
      "metadata": {
        "colab": {
          "base_uri": "https://localhost:8080/"
        },
        "id": "LoX16InDqVuk",
        "outputId": "18ff77d1-78d6-4d60-c816-64ede607659f"
      },
      "outputs": [
        {
          "name": "stdout",
          "output_type": "stream",
          "text": [
            "Dias-Disa\n"
          ]
        }
      ],
      "source": [
        "print(nama_siswa_1, nama_siswa_2, sep=\"-\")"
      ]
    },
    {
      "cell_type": "markdown",
      "metadata": {
        "id": "0xUaMQopyRej"
      },
      "source": [
        "#Latihan soal"
      ]
    },
    {
      "cell_type": "code",
      "execution_count": null,
      "metadata": {
        "id": "phDmAGxa70eT",
        "outputId": "be06372b-4f3f-4414-aad2-1053b5fa0052",
        "colab": {
          "base_uri": "https://localhost:8080/"
        }
      },
      "outputs": [
        {
          "output_type": "stream",
          "name": "stdout",
          "text": [
            "kinan/azka/naufal/ridho\n"
          ]
        }
      ],
      "source": [
        "nama_siswa_1 =  \"kinan\"\n",
        "nama_siswa_2 =  \"azka\"\n",
        "nama_siswa_3 =  \"naufal\"\n",
        "nama_siswa_4 =  \"ridho\"\n",
        "print ( nama_siswa_1 ,  nama_siswa_2 ,  nama_siswa_3 ,  nama_siswa_4 ,  sep= \"/\" )"
      ]
    },
    {
      "cell_type": "code",
      "execution_count": null,
      "metadata": {
        "colab": {
          "base_uri": "https://localhost:8080/"
        },
        "id": "AopyGTzw705q",
        "outputId": "13e404bc-5982-4205-846c-8965fb37ffd1"
      },
      "outputs": [
        {
          "output_type": "stream",
          "name": "stdout",
          "text": [
            "kinan*azka*naufal*ridho*"
          ]
        }
      ],
      "source": [
        "print(nama_siswa_1, end=\"*\")\n",
        "print(nama_siswa_2, end=\"*\")\n",
        "print(nama_siswa_3, end=\"*\")\n",
        "print(nama_siswa_4, end=\"*\")"
      ]
    }
  ],
  "metadata": {
    "colab": {
      "provenance": [],
      "authorship_tag": "ABX9TyOiRR68tfeGQYJrQq/P3K3u",
      "include_colab_link": true
    },
    "kernelspec": {
      "display_name": "Python 3",
      "name": "python3"
    },
    "language_info": {
      "name": "python"
    }
  },
  "nbformat": 4,
  "nbformat_minor": 0
}